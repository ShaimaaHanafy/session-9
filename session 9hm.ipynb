{
 "cells": [
  {
   "cell_type": "code",
   "execution_count": null,
   "id": "8c76f588-5b8b-4114-8efa-183c109275eb",
   "metadata": {},
   "outputs": [],
   "source": [
    "Q1\n",
    "A non-experienced job seeker wants to know what is the best job for him?\n"
   ]
  },
  {
   "cell_type": "code",
   "execution_count": 1,
   "id": "b984600e-6ee1-4634-9c69-f39c67b50b3b",
   "metadata": {},
   "outputs": [
    {
     "name": "stdout",
     "output_type": "stream",
     "text": [
      "Welcome to the Job Suggestion Program!\n",
      "Answer the following questions to get a job recommendation.\n",
      "\n"
     ]
    },
    {
     "name": "stdin",
     "output_type": "stream",
     "text": [
      "What are you interested in? (e.g., technology, people, design, nature, numbers):  technology\n",
      "How would you describe your personality? (e.g., introvert, extrovert, creative, analytical):  creative\n"
     ]
    },
    {
     "name": "stdout",
     "output_type": "stream",
     "text": [
      "\n",
      "Based on your responses, a good entry-level job for you could be: Web Developer\n"
     ]
    }
   ],
   "source": [
    "def suggest_job():\n",
    "    print(\"Welcome to the Job Suggestion Program!\")\n",
    "    print(\"Answer the following questions to get a job recommendation.\\n\")\n",
    "\n",
    "    interests = input(\"What are you interested in? (e.g., technology, people, design, nature, numbers): \").lower()\n",
    "    personality = input(\"How would you describe your personality? (e.g., introvert, extrovert, creative, analytical): \").lower()\n",
    "\n",
    "    # Simple job suggestions based on interests and personality\n",
    "    if \"technology\" in interests:\n",
    "        if \"analytical\" in personality:\n",
    "            job = \"Data Analyst\"\n",
    "        elif \"creative\" in personality:\n",
    "            job = \"Web Developer\"\n",
    "        else:\n",
    "            job = \"IT Support Specialist\"\n",
    "    elif \"people\" in interests:\n",
    "        if \"extrovert\" in personality:\n",
    "            job = \"Customer Service Representative\"\n",
    "        else:\n",
    "            job = \"Human Resources Assistant\"\n",
    "    elif \"design\" in interests:\n",
    "        job = \"Graphic Designer\"\n",
    "    elif \"nature\" in interests:\n",
    "        job = \"Park Ranger\"\n",
    "    elif \"numbers\" in interests:\n",
    "        job = \"Bookkeeper\"\n",
    "    else:\n",
    "        job = \"Administrative Assistant\"\n",
    "\n",
    "    print(f\"\\nBased on your responses, a good entry-level job for you could be: {job}\")\n",
    "\n",
    "suggest_job()\n"
   ]
  },
  {
   "cell_type": "code",
   "execution_count": null,
   "id": "ae294891-78e1-4208-87ae-ff10272a7a5b",
   "metadata": {},
   "outputs": [],
   "source": []
  },
  {
   "cell_type": "code",
   "execution_count": null,
   "id": "95a55135-2618-4a6f-8e12-c15ef1c21392",
   "metadata": {},
   "outputs": [],
   "source": [
    "Q2\n",
    "A concerned parents contacts you to tell them if there is a spicific school type that would guaranteed for their child a good future if you can tell, and which is it ?\n"
   ]
  },
  {
   "cell_type": "code",
   "execution_count": 2,
   "id": "0c165368-817e-4c12-a1b1-850bb739a565",
   "metadata": {},
   "outputs": [
    {
     "name": "stdout",
     "output_type": "stream",
     "text": [
      "Welcome to the School Type Advisor for Parents.\n",
      "\n",
      "While no school type can *guarantee* success, choosing the right environment can help your child thrive.\n",
      "\n"
     ]
    },
    {
     "name": "stdin",
     "output_type": "stream",
     "text": [
      "What are your child's strengths or interests? (e.g., academics, arts, sports, technology, social skills):  academics\n",
      "How does your child learn best? (e.g., hands-on, visual, structured, creative, independent):  creative\n"
     ]
    },
    {
     "name": "stdout",
     "output_type": "stream",
     "text": [
      "\n",
      "Suggested school type: Arts School or Creative Curriculum School\n",
      "Remember: Success depends more on a child's engagement, support system, and personal growth than just the type of school.\n"
     ]
    }
   ],
   "source": [
    "def suggest_school_type():\n",
    "    print(\"Welcome to the School Type Advisor for Parents.\\n\")\n",
    "    print(\"While no school type can *guarantee* success, choosing the right environment can help your child thrive.\\n\")\n",
    "\n",
    "    strengths = input(\"What are your child's strengths or interests? (e.g., academics, arts, sports, technology, social skills): \").lower()\n",
    "    learning_style = input(\"How does your child learn best? (e.g., hands-on, visual, structured, creative, independent): \").lower()\n",
    "\n",
    "    if \"technology\" in strengths or \"hands-on\" in learning_style:\n",
    "        school_type = \"STEM-focused or Technical School\"\n",
    "    elif \"arts\" in strengths or \"creative\" in learning_style:\n",
    "        school_type = \"Arts School or Creative Curriculum School\"\n",
    "    elif \"academics\" in strengths and \"structured\" in learning_style:\n",
    "        school_type = \"Traditional Academic or College Prep School\"\n",
    "    elif \"independent\" in learning_style:\n",
    "        school_type = \"Montessori or Project-Based Learning School\"\n",
    "    elif \"social\" in strengths:\n",
    "        school_type = \"School with strong extracurricular and leadership programs\"\n",
    "    else:\n",
    "        school_type = \"Well-rounded Public or Private School with diverse offerings\"\n",
    "\n",
    "    print(f\"\\nSuggested school type: {school_type}\")\n",
    "    print(\"Remember: Success depends more on a child's engagement, support system, and personal growth than just the type of school.\")\n",
    "\n",
    "suggest_school_type()\n"
   ]
  },
  {
   "cell_type": "code",
   "execution_count": null,
   "id": "4dc6b7a6-16da-48ae-9c0c-828c8a606100",
   "metadata": {},
   "outputs": [],
   "source": []
  },
  {
   "cell_type": "code",
   "execution_count": null,
   "id": "b04ed9ff-9476-485d-9136-9e6168b0ddb4",
   "metadata": {},
   "outputs": [],
   "source": [
    "Q4\n",
    "Is experience more important than educational level?\n"
   ]
  },
  {
   "cell_type": "code",
   "execution_count": 2,
   "id": "5db6839b-0fdb-4af9-a9ed-5978921af9ff",
   "metadata": {},
   "outputs": [
    {
     "name": "stdout",
     "output_type": "stream",
     "text": [
      "Welcome to the Experience vs. Education Advisor!\n",
      "\n"
     ]
    },
    {
     "name": "stdin",
     "output_type": "stream",
     "text": [
      "What kind of job are you aiming for? (e.g., tech, healthcare, academia, business, trades):  business\n",
      "What is your main goal? (e.g., get hired fast, long-term career growth, high salary, leadership roles):  high salary\n"
     ]
    },
    {
     "name": "stdout",
     "output_type": "stream",
     "text": [
      "\n",
      "Conclusion: Experience often matters more, especially practical or project-based experience.\n",
      "Note: In today's job market, many employers value *both*—but relevant experience can often outweigh a degree alone.\n"
     ]
    }
   ],
   "source": [
    "def experience_vs_education():\n",
    "    print(\"Welcome to the Experience vs. Education Advisor!\\n\")\n",
    "    \n",
    "    job_type = input(\"What kind of job are you aiming for? (e.g., tech, healthcare, academia, business, trades): \").lower()\n",
    "    goal = input(\"What is your main goal? (e.g., get hired fast, long-term career growth, high salary, leadership roles): \").lower()\n",
    "\n",
    "    if job_type in [\"tech\", \"trades\", \"business\"]:\n",
    "        if goal in [\"get hired fast\", \"high salary\"]:\n",
    "            result = \"Experience often matters more, especially practical or project-based experience.\"\n",
    "        else:\n",
    "            result = \"A mix of experience and education works best for long-term success.\"\n",
    "    elif job_type in [\"healthcare\", \"academia\"]:\n",
    "        result = \"Education is usually required and sometimes mandatory for certification or credibility.\"\n",
    "    else:\n",
    "        result = \"Both matter, but real-world experience can give you an edge in many fields.\"\n",
    "\n",
    "    print(f\"\\nConclusion: {result}\")\n",
    "    print(\"Note: In today's job market, many employers value *both*—but relevant experience can often outweigh a degree alone.\")\n",
    "\n",
    "experience_vs_education()\n",
    "\n",
    "# What It Does:\n",
    "# - Asks about the job type and career goal.\n",
    "# - Gives a tailored response.\n",
    "# - Offers a realistic conclusion: experience and education are both valuable, depending on industry and goals.\n",
    "\n",
    "\n"
   ]
  },
  {
   "cell_type": "code",
   "execution_count": null,
   "id": "87ee6a06-0040-4b7b-b314-5f5c37046e96",
   "metadata": {},
   "outputs": [],
   "source": []
  }
 ],
 "metadata": {
  "kernelspec": {
   "display_name": "Python 3 (ipykernel)",
   "language": "python",
   "name": "python3"
  },
  "language_info": {
   "codemirror_mode": {
    "name": "ipython",
    "version": 3
   },
   "file_extension": ".py",
   "mimetype": "text/x-python",
   "name": "python",
   "nbconvert_exporter": "python",
   "pygments_lexer": "ipython3",
   "version": "3.13.2"
  }
 },
 "nbformat": 4,
 "nbformat_minor": 5
}
